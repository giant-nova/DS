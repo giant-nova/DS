{
 "cells": [
  {
   "cell_type": "code",
   "execution_count": 1,
   "id": "dfd72b56-0f9d-4c62-8763-8f841e4f59fa",
   "metadata": {},
   "outputs": [
    {
     "data": {
      "text/plain": [
       "2"
      ]
     },
     "execution_count": 1,
     "metadata": {},
     "output_type": "execute_result"
    }
   ],
   "source": [
    "1+1"
   ]
  },
  {
   "cell_type": "code",
   "execution_count": 2,
   "id": "e1a78695-5d71-48ea-a7c1-abf8a91a3382",
   "metadata": {},
   "outputs": [
    {
     "name": "stdout",
     "output_type": "stream",
     "text": [
      "Hello World\n"
     ]
    }
   ],
   "source": [
    "print(\"Hello World\")"
   ]
  },
  {
   "cell_type": "markdown",
   "id": "6dc37259-bf87-4423-ac9c-55245639cf3b",
   "metadata": {
    "tags": []
   },
   "source": [
    "## Creating first notebook"
   ]
  },
  {
   "cell_type": "code",
   "execution_count": 8,
   "id": "443c2447-af72-43a1-b0e5-bb02889ede3e",
   "metadata": {},
   "outputs": [
    {
     "name": "stdout",
     "output_type": "stream",
     "text": [
      "168\n"
     ]
    }
   ],
   "source": [
    "print(3*56)"
   ]
  },
  {
   "cell_type": "code",
   "execution_count": 7,
   "id": "f0d4c897-4f7d-4ad7-b954-72852dbcaa98",
   "metadata": {},
   "outputs": [
    {
     "name": "stdout",
     "output_type": "stream",
     "text": [
      "14\n"
     ]
    }
   ],
   "source": [
    "a=1\n",
    "b=3\n",
    "c=6\n",
    "print(a+b+c+4)"
   ]
  },
  {
   "cell_type": "markdown",
   "id": "95f6c89a-1909-4fb1-9ee5-fd3c127a91ad",
   "metadata": {},
   "source": [
    "my note"
   ]
  },
  {
   "cell_type": "markdown",
   "id": "cbf52446-4764-41c3-bd8e-382a60ef03b6",
   "metadata": {},
   "source": [
    "<a href=\"https://dataplatform.cloud.ibm.com/gallery\">IBM Cloud Gallery</a> "
   ]
  },
  {
   "cell_type": "markdown",
   "id": "54f8c670-4b6f-4f76-80ed-a30e2d6ce1a6",
   "metadata": {},
   "source": [
    "# header 1"
   ]
  },
  {
   "cell_type": "markdown",
   "id": "f84e804b-db12-47c6-b2b9-6fad5fce5fb8",
   "metadata": {},
   "source": [
    "|Col_1|Col_2|\n",
    "|-|-|\n",
    "|cell1|cell2|"
   ]
  },
  {
   "cell_type": "markdown",
   "id": "9cb1a4eb-c767-416d-9e14-150b3939a11f",
   "metadata": {},
   "source": [
    "|Emp_id|Name|Dept|\n",
    "|-|-|-|\n",
    "|1|Kunal|IT|\n",
    "|2|Aishwarya|CS|\n",
    "|3|Rinki|APS|\n",
    "|4|Mukul|HM|"
   ]
  },
  {
   "cell_type": "code",
   "execution_count": null,
   "id": "c845a9fe-78be-4d20-920e-07a47c0d029c",
   "metadata": {},
   "outputs": [],
   "source": []
  }
 ],
 "metadata": {
  "kernelspec": {
   "display_name": "Python 3 (ipykernel)",
   "language": "python",
   "name": "python3"
  },
  "language_info": {
   "codemirror_mode": {
    "name": "ipython",
    "version": 3
   },
   "file_extension": ".py",
   "mimetype": "text/x-python",
   "name": "python",
   "nbconvert_exporter": "python",
   "pygments_lexer": "ipython3",
   "version": "3.9.13"
  }
 },
 "nbformat": 4,
 "nbformat_minor": 5
}
